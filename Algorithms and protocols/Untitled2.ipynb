{
 "cells": [
  {
   "cell_type": "code",
   "execution_count": 3,
   "id": "61e19e02",
   "metadata": {},
   "outputs": [],
   "source": [
    "from math import pi, e"
   ]
  },
  {
   "cell_type": "code",
   "execution_count": 4,
   "id": "5444e15a",
   "metadata": {},
   "outputs": [
    {
     "name": "stdout",
     "output_type": "stream",
     "text": [
      "(4+0j)|0>\n",
      "(-2.220446049250313e-16+2.220446049250313e-16j)|1>\n",
      "(-2.449293598294706e-16+0j)|2>\n",
      "(-5.551115123125783e-16+1.2212453270876722e-15j)|3>\n",
      "(-4-1.959434878635765e-15j)|4>\n",
      "(2.220446049250313e-16-6.661338147750939e-16j)|5>\n",
      "(-2.8179255993120893e-15+0j)|6>\n",
      "(4.3298697960381105e-15+1.887379141862766e-15j)|7>\n",
      "(4+3.91886975727153e-15j)|8>\n",
      "(1.4432899320127035e-15-1.887379141862766e-15j)|9>\n",
      "(-6.5537173173481045e-15+0j)|10>\n",
      "(5.551115123125783e-16-2.55351295663786e-15j)|11>\n",
      "(-4-5.878304635907295e-15j)|12>\n",
      "(4.773959005888173e-15+2.55351295663786e-15j)|13>\n",
      "(3.4908623582065457e-15+0j)|14>\n",
      "(1.1102230246251565e-16-2.55351295663786e-15j)|15>\n"
     ]
    }
   ],
   "source": [
    "for y in range(16):\n",
    "    print(f'{e**(-pi*1j*y/4)+e**(-3*pi*1j*y/4)+e**(-5*pi*1j*y/4)+e**(-7*pi*1j*y/4)}|{y}>')"
   ]
  },
  {
   "cell_type": "code",
   "execution_count": null,
   "id": "fb2d8be4",
   "metadata": {},
   "outputs": [],
   "source": [
    "4|0>-i|4>-i|8>-i|12>"
   ]
  }
 ],
 "metadata": {
  "kernelspec": {
   "display_name": "Python 3 (ipykernel)",
   "language": "python",
   "name": "python3"
  },
  "language_info": {
   "codemirror_mode": {
    "name": "ipython",
    "version": 3
   },
   "file_extension": ".py",
   "mimetype": "text/x-python",
   "name": "python",
   "nbconvert_exporter": "python",
   "pygments_lexer": "ipython3",
   "version": "3.9.7"
  }
 },
 "nbformat": 4,
 "nbformat_minor": 5
}
