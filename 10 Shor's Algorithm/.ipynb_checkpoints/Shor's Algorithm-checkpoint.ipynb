{
 "cells": [
  {
   "cell_type": "code",
   "execution_count": 1,
   "id": "da18b372",
   "metadata": {},
   "outputs": [],
   "source": [
    "N = 15"
   ]
  },
  {
   "cell_type": "markdown",
   "id": "cd95a92e",
   "metadata": {},
   "source": [
    "**Step 1**"
   ]
  },
  {
   "cell_type": "code",
   "execution_count": 2,
   "id": "327de4ee",
   "metadata": {},
   "outputs": [
    {
     "name": "stdout",
     "output_type": "stream",
     "text": [
      "proceed to step 2\n"
     ]
    }
   ],
   "source": [
    "m = 7\n",
    "from math import gcd\n",
    "if gcd(m,N) != 1:\n",
    "    print('problem solved')\n",
    "else:\n",
    "    print('proceed to step 2')"
   ]
  },
  {
   "cell_type": "markdown",
   "id": "b31af126",
   "metadata": {},
   "source": [
    "**Step 2 use a quantum computer to determine the period of f(x)m^x mod N**"
   ]
  },
  {
   "cell_type": "markdown",
   "id": "c54f63d8",
   "metadata": {},
   "source": [
    "**step 2.0**"
   ]
  },
  {
   "cell_type": "code",
   "execution_count": 3,
   "id": "22f56fc5",
   "metadata": {},
   "outputs": [],
   "source": [
    "from qiskit import QuantumCircuit, QuantumRegister, ClassicalRegister\n",
    "q = QuantumRegister(4)\n",
    "c = ClassicalRegister(4)\n",
    "qc = QuantumCircuit(q,c)"
   ]
  },
  {
   "cell_type": "markdown",
   "id": "008e02cf",
   "metadata": {},
   "source": [
    "**Step 2.1, 2.2**"
   ]
  },
  {
   "cell_type": "code",
   "execution_count": 4,
   "id": "93d18aa3",
   "metadata": {},
   "outputs": [],
   "source": [
    "f = []\n",
    "for i in range(2**4):\n",
    "    f.append((m**i%N))"
   ]
  },
  {
   "cell_type": "code",
   "execution_count": 5,
   "id": "b492d4d8",
   "metadata": {},
   "outputs": [
    {
     "data": {
      "text/plain": [
       "[1, 7, 4, 13, 1, 7, 4, 13, 1, 7, 4, 13, 1, 7, 4, 13]"
      ]
     },
     "execution_count": 5,
     "metadata": {},
     "output_type": "execute_result"
    }
   ],
   "source": [
    "f"
   ]
  },
  {
   "cell_type": "code",
   "execution_count": 6,
   "id": "a9d34487",
   "metadata": {},
   "outputs": [],
   "source": [
    "import matplotlib.pyplot as plt\n",
    "import numpy as np"
   ]
  },
  {
   "cell_type": "code",
   "execution_count": 8,
   "id": "3f2d77f2",
   "metadata": {},
   "outputs": [
    {
     "data": {
      "text/plain": [
       "[<matplotlib.lines.Line2D at 0x7f946d3f7250>]"
      ]
     },
     "execution_count": 8,
     "metadata": {},
     "output_type": "execute_result"
    },
    {
     "data": {
      "image/png": "[encoded data removed]",
      "text/plain": [
       "<Figure size 432x288 with 1 Axes>"
      ]
     },
     "metadata": {
      "needs_background": "light"
     },
     "output_type": "display_data"
    }
   ],
   "source": [
    "x = np.arange(0,16,1)\n",
    "plt.plot(x,(m**x)%N)"
   ]
  },
  {
   "cell_type": "code",
   "execution_count": 9,
   "id": "5d8d3e31",
   "metadata": {},
   "outputs": [
    {
     "name": "stdout",
     "output_type": "stream",
     "text": [
      "| 1 > | 0 >\n",
      "| 7 > | 1 >\n",
      "| 4 > | 2 >\n",
      "| 13 > | 3 >\n",
      "| 1 > | 4 >\n",
      "| 7 > | 5 >\n",
      "| 4 > | 6 >\n",
      "| 13 > | 7 >\n",
      "| 1 > | 8 >\n",
      "| 7 > | 9 >\n",
      "| 4 > | 10 >\n",
      "| 13 > | 11 >\n",
      "| 1 > | 12 >\n",
      "| 7 > | 13 >\n",
      "| 4 > | 14 >\n",
      "| 13 > | 15 >\n"
     ]
    }
   ],
   "source": [
    "for i in range(2**4):\n",
    "    print('|',f[i],'>','|',i,'>')"
   ]
  },
  {
   "cell_type": "markdown",
   "id": "2b707282",
   "metadata": {},
   "source": [
    "**step 2.3**"
   ]
  },
  {
   "cell_type": "code",
   "execution_count": 10,
   "id": "22e050cc",
   "metadata": {},
   "outputs": [],
   "source": [
    "from random import choice\n",
    "measurement = choice(f)"
   ]
  },
  {
   "cell_type": "code",
   "execution_count": 11,
   "id": "d3a09859",
   "metadata": {},
   "outputs": [
    {
     "data": {
      "text/plain": [
       "4"
      ]
     },
     "execution_count": 11,
     "metadata": {},
     "output_type": "execute_result"
    }
   ],
   "source": [
    "measurement"
   ]
  },
  {
   "cell_type": "code",
   "execution_count": 12,
   "id": "40683dd5",
   "metadata": {},
   "outputs": [
    {
     "name": "stdout",
     "output_type": "stream",
     "text": [
      "2 =| 0010 >\n",
      "6 =| 0110 >\n",
      "10 =| 1010 >\n",
      "14 =| 1110 >\n"
     ]
    }
   ],
   "source": [
    "amplitudes = []\n",
    "for i in range(2**4):\n",
    "    amplitudes.append(0)\n",
    "for i in range(2**4):\n",
    "    if f[i] == measurement:\n",
    "        print(i,'=|',bin(i)[2:].zfill(4),'>')\n",
    "        amplitudes[i]=0.5"
   ]
  },
  {
   "cell_type": "code",
   "execution_count": 13,
   "id": "9689f856",
   "metadata": {},
   "outputs": [
    {
     "data": {
      "text/plain": [
       "[0, 0, 0.5, 0, 0, 0, 0.5, 0, 0, 0, 0.5, 0, 0, 0, 0.5, 0]"
      ]
     },
     "execution_count": 13,
     "metadata": {},
     "output_type": "execute_result"
    }
   ],
   "source": [
    "amplitudes"
   ]
  },
  {
   "cell_type": "code",
   "execution_count": 14,
   "id": "4c22cf2b",
   "metadata": {},
   "outputs": [
    {
     "data": {
      "text/plain": [
       "<qiskit.circuit.instructionset.InstructionSet at 0x7f946d109a80>"
      ]
     },
     "execution_count": 14,
     "metadata": {},
     "output_type": "execute_result"
    }
   ],
   "source": [
    "qc.initialize(amplitudes,[q[0],q[1],q[2],q[3]])"
   ]
  },
  {
   "cell_type": "code",
   "execution_count": 15,
   "id": "5839d60e",
   "metadata": {},
   "outputs": [
    {
     "data": {
      "image/png": "[encoded data removed]",
      "text/plain": [
       "<Figure size 400.578x325.08 with 1 Axes>"
      ]
     },
     "execution_count": 15,
     "metadata": {},
     "output_type": "execute_result"
    }
   ],
   "source": [
    "qc.draw('mpl')"
   ]
  },
  {
   "cell_type": "markdown",
   "id": "802ce500",
   "metadata": {},
   "source": [
    "**step 2.4**"
   ]
  },
  {
   "cell_type": "code",
   "execution_count": 16,
   "id": "cf87f131",
   "metadata": {},
   "outputs": [
    {
     "data": {
      "image/png": "[encoded data removed]",
      "text/plain": [
       "<Figure size 460.778x325.08 with 1 Axes>"
      ]
     },
     "execution_count": 16,
     "metadata": {},
     "output_type": "execute_result"
    }
   ],
   "source": [
    "from qiskit.circuit.library import QFT\n",
    "in_qft = QFT(4,inverse=True)\n",
    "qc = qc.compose(in_qft)\n",
    "qc.draw('mpl')"
   ]
  },
  {
   "cell_type": "markdown",
   "id": "32d25387",
   "metadata": {},
   "source": [
    "**step 2.5**"
   ]
  },
  {
   "cell_type": "code",
   "execution_count": 18,
   "id": "792df065",
   "metadata": {},
   "outputs": [
    {
     "data": {
      "image/png": "[encoded data removed]",
      "text/plain": [
       "<Figure size 701.578x325.08 with 1 Axes>"
      ]
     },
     "execution_count": 18,
     "metadata": {},
     "output_type": "execute_result"
    }
   ],
   "source": [
    "for i in range(4):\n",
    "    qc.measure(q[i],c[i])\n",
    "qc.draw('mpl')"
   ]
  },
  {
   "cell_type": "code",
   "execution_count": 19,
   "id": "ba0899f0",
   "metadata": {},
   "outputs": [
    {
     "data": {
      "image/png": "[encoded data removed]",
      "text/plain": [
       "<Figure size 504x360 with 1 Axes>"
      ]
     },
     "execution_count": 19,
     "metadata": {},
     "output_type": "execute_result"
    }
   ],
   "source": [
    "from qiskit.providers.aer import QasmSimulator\n",
    "from qiskit import transpile\n",
    "from qiskit.visualization import plot_histogram\n",
    "backend = QasmSimulator()\n",
    "qc_compiled = transpile(qc, backend)\n",
    "job = backend.run(qc_compiled, shots=1024)\n",
    "result = job.result()\n",
    "counts = result.get_counts()\n",
    "plot_histogram(counts)"
   ]
  },
  {
   "cell_type": "code",
   "execution_count": 20,
   "id": "b0d20bd0",
   "metadata": {},
   "outputs": [],
   "source": [
    "def result(counts):\n",
    "    results = []\n",
    "    for key in counts.keys():\n",
    "        results.append(int(key,2))\n",
    "    return results"
   ]
  },
  {
   "cell_type": "code",
   "execution_count": 22,
   "id": "d17d5c98",
   "metadata": {},
   "outputs": [
    {
     "data": {
      "text/plain": [
       "[4, 0, 8, 12]"
      ]
     },
     "execution_count": 22,
     "metadata": {},
     "output_type": "execute_result"
    }
   ],
   "source": [
    "result(counts)"
   ]
  },
  {
   "cell_type": "markdown",
   "id": "4fa7dbbb",
   "metadata": {},
   "source": [
    "**step 3**"
   ]
  },
  {
   "cell_type": "code",
   "execution_count": 23,
   "id": "f1c200f9",
   "metadata": {},
   "outputs": [],
   "source": [
    "a = 2**4/result(counts)[0]"
   ]
  },
  {
   "cell_type": "code",
   "execution_count": 24,
   "id": "3201f1e6",
   "metadata": {},
   "outputs": [
    {
     "data": {
      "text/plain": [
       "4.0"
      ]
     },
     "execution_count": 24,
     "metadata": {},
     "output_type": "execute_result"
    }
   ],
   "source": [
    "a"
   ]
  },
  {
   "cell_type": "markdown",
   "id": "b9c54df8",
   "metadata": {},
   "source": [
    "**step 4**"
   ]
  },
  {
   "cell_type": "code",
   "execution_count": 25,
   "id": "24c93c35",
   "metadata": {},
   "outputs": [],
   "source": [
    "if a%2 != 0:\n",
    "    print('goto step 1')\n",
    "else:\n",
    "    x = (m**(a/2))%N"
   ]
  },
  {
   "cell_type": "code",
   "execution_count": 26,
   "id": "1e327f35",
   "metadata": {},
   "outputs": [
    {
     "data": {
      "text/plain": [
       "4.0"
      ]
     },
     "execution_count": 26,
     "metadata": {},
     "output_type": "execute_result"
    }
   ],
   "source": [
    "x"
   ]
  },
  {
   "cell_type": "markdown",
   "id": "18b0de86",
   "metadata": {},
   "source": [
    "**step 5**"
   ]
  },
  {
   "cell_type": "code",
   "execution_count": 27,
   "id": "7e4a23d9",
   "metadata": {},
   "outputs": [
    {
     "name": "stdout",
     "output_type": "stream",
     "text": [
      "5.0 3.0\n"
     ]
    }
   ],
   "source": [
    "p = x+1\n",
    "q =x-1\n",
    "print(p,q)"
   ]
  },
  {
   "cell_type": "code",
   "execution_count": null,
   "id": "f61e6603",
   "metadata": {},
   "outputs": [],
   "source": []
  }
 ],
 "metadata": {
  "kernelspec": {
   "display_name": "Python 3 (ipykernel)",
   "language": "python",
   "name": "python3"
  },
  "language_info": {
   "codemirror_mode": {
    "name": "ipython",
    "version": 3
   },
   "file_extension": ".py",
   "mimetype": "text/x-python",
   "name": "python",
   "nbconvert_exporter": "python",
   "pygments_lexer": "ipython3",
   "version": "3.9.7"
  }
 },
 "nbformat": 4,
 "nbformat_minor": 5
}
